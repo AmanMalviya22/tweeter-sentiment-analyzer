{
  "nbformat": 4,
  "nbformat_minor": 0,
  "metadata": {
    "colab": {
      "name": "Create Twitter Evaluation Datasets from Sheets.ipynb",
      "provenance": [],
      "collapsed_sections": [],
      "mount_file_id": "https://github.com/salathegroup/multi-lang-vaccine-sentiment/blob/master/Create_Vaccine_Datasets_from_Sheets.ipynb",
      "authorship_tag": "ABX9TyMOR4kd3b4clyBIN80b5lb9",
      "include_colab_link": true
    },
    "kernelspec": {
      "name": "python3",
      "display_name": "Python 3"
    }
  },
  "cells": [
    {
      "cell_type": "markdown",
      "metadata": {
        "id": "view-in-github",
        "colab_type": "text"
      },
      "source": [
        "<a href=\"https://colab.research.google.com/github/digitalepidemiologylab/covid-bert/blob/master/Create_Twitter_Evaluation_Datasets_from_Sheets.ipynb\" target=\"_parent\"><img src=\"https://colab.research.google.com/assets/colab-badge.svg\" alt=\"Open In Colab\"/></a>"
      ]
    },
    {
      "cell_type": "markdown",
      "metadata": {
        "id": "slkqrCYvU24K",
        "colab_type": "text"
      },
      "source": [
        "#Create Vaccine Datasets from Sheets\n",
        "Creates the vaccine datasets both for the annotated and the unannotated stuff stored in the Google Sheets.\n",
        "\n",
        "In the end it copies the training datasets to the Google Cloud."
      ]
    },
    {
      "cell_type": "code",
      "metadata": {
        "id": "DZLs-U-tU0hm",
        "colab_type": "code",
        "cellView": "both",
        "outputId": "f3a0b8e6-6fb4-430e-c1f8-19bcc4aed553",
        "colab": {
          "base_uri": "https://localhost:8080/",
          "height": 173
        }
      },
      "source": [
        "##@markdown ##Read Sheets\n",
        "!pip install pandas_ml\n",
        "\n",
        "import pandas as pd\n",
        "import numpy as np\n",
        "import gspread\n",
        "import sys, os\n",
        "from oauth2client.client import GoogleCredentials\n",
        "from google.colab import auth\n",
        "import pandas as pd\n",
        "\n",
        "auth.authenticate_user()\n",
        "gc = gspread.authorize(GoogleCredentials.get_application_default())\n",
        "\n",
        "sheets = ['vaccine_sentiment_epfl','maternal_vaccine_stance_lshtm','twitter_sentiment_semeval']\n",
        "data = {}\n",
        "sh = gc.open('Twitter Evaluation Datasets')\n",
        "\n",
        "for s in sheets:\n",
        "  #Read the vaccine_sentiment_epfl\n",
        "  worksheet = sh.worksheet(s)\n",
        "  rows = worksheet.get_all_values()\n",
        "\n",
        "  #Get it into pandas\n",
        "  data[s] = pd.DataFrame.from_records(rows)\n",
        "  data[s].columns = data[s].iloc[0]\n",
        "  data[s]  = data[s].reindex(data[s].index.drop(0))\n",
        "  data[s]['a'] = \"a\"\n",
        "\n",
        "print(\"Successfully read the data\")\n",
        "\n"
      ],
      "execution_count": 32,
      "outputs": [
        {
          "output_type": "stream",
          "text": [
            "Requirement already satisfied: pandas_ml in /usr/local/lib/python3.6/dist-packages (0.6.1)\n",
            "Requirement already satisfied: pandas>=0.19.0 in /usr/local/lib/python3.6/dist-packages (from pandas_ml) (1.0.3)\n",
            "Requirement already satisfied: enum34 in /usr/local/lib/python3.6/dist-packages (from pandas_ml) (1.1.10)\n",
            "Requirement already satisfied: pytz>=2017.2 in /usr/local/lib/python3.6/dist-packages (from pandas>=0.19.0->pandas_ml) (2018.9)\n",
            "Requirement already satisfied: numpy>=1.13.3 in /usr/local/lib/python3.6/dist-packages (from pandas>=0.19.0->pandas_ml) (1.18.2)\n",
            "Requirement already satisfied: python-dateutil>=2.6.1 in /usr/local/lib/python3.6/dist-packages (from pandas>=0.19.0->pandas_ml) (2.8.1)\n",
            "Requirement already satisfied: six>=1.5 in /usr/local/lib/python3.6/dist-packages (from python-dateutil>=2.6.1->pandas>=0.19.0->pandas_ml) (1.12.0)\n",
            "Successfully read the annotated data\n"
          ],
          "name": "stdout"
        }
      ]
    },
    {
      "cell_type": "code",
      "metadata": {
        "id": "aZegQq60XxCD",
        "colab_type": "code",
        "colab": {}
      },
      "source": [
        "# #@markdown ##Create and Copy Data Files\n",
        "import warnings\n",
        "warnings.filterwarnings('ignore')\n",
        "\n",
        "!rm -rf /content/datasets*\n",
        "\n",
        "for s in sheets:\n",
        "  if not os.path.exists('/content/datasets'):\n",
        "    os.makedirs('/content/datasets')\n",
        "\n",
        "  if not os.path.exists('/content/datasets/'+s):\n",
        "    os.makedirs('/content/datasets/'+s)\n",
        "\n",
        "  train = data[s][data[s]['dataset'] == \"train\"]\n",
        "  dev = data[s][data[s]['dataset'] == \"dev\"]\n",
        "  test = data[s][data[s]['dataset'] == \"test\"]\n",
        "\n",
        "\n",
        "  with open('/content/datasets/'+s+\"/train.tsv\", 'w') as f:\n",
        "    f.write(train.to_csv(columns=[\"id\", \"label\", \"a\", \"text\"], header=False, index=False, sep='\\t',encoding = 'utf-8'))\n",
        "\n",
        "  with open('/content/datasets/'+s+\"/dev.tsv\", 'w') as f:\n",
        "    f.write(dev.to_csv(columns=[\"id\", \"label\", \"a\", \"text\"], header=False, index=False, sep='\\t',encoding = 'utf-8'))\n",
        "\n",
        "  #with open('/content/datasets/'+s+\"/test.tsv\", 'w') as f:\n",
        "  #  f.write(test.to_csv(columns=[\"id\", lang], header=False, index=False, sep='\\t',encoding = 'utf-8'))\n",
        "\n",
        "  with open('/content/datasets/'+s+\"/test.tsv\", 'w') as f:\n",
        "    f.write(test.to_csv(columns=[\"id\", \"label\", \"a\", \"text\"], header=False, index=False, sep='\\t',encoding = 'utf-8'))\n",
        "\n",
        "\n",
        "print (\"We should now copy this to the bucket\")\n",
        "\n"
      ],
      "execution_count": 0,
      "outputs": []
    }
  ]
}