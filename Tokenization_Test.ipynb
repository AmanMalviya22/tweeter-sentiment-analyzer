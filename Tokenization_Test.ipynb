{
  "nbformat": 4,
  "nbformat_minor": 0,
  "metadata": {
    "colab": {
      "name": "Tokenization Test.ipynb",
      "provenance": [],
      "collapsed_sections": [],
      "include_colab_link": true
    },
    "kernelspec": {
      "name": "python3",
      "display_name": "Python 3"
    }
  },
  "cells": [
    {
      "cell_type": "markdown",
      "metadata": {
        "id": "view-in-github",
        "colab_type": "text"
      },
      "source": [
        "<a href=\"https://colab.research.google.com/github/digitalepidemiologylab/covid-bert/blob/master/Tokenization_Test.ipynb\" target=\"_parent\"><img src=\"https://colab.research.google.com/assets/colab-badge.svg\" alt=\"Open In Colab\"/></a>"
      ]
    },
    {
      "cell_type": "code",
      "metadata": {
        "id": "Tjx5R01bwFkI",
        "colab_type": "code",
        "outputId": "dd8b1b23-e14e-4090-b975-c4ac8f777626",
        "colab": {
          "base_uri": "https://localhost:8080/",
          "height": 68
        },
        "cellView": "both"
      },
      "source": [
        "%tensorflow_version 1.x\n",
        "import sys\n",
        "import tensorflow as tf\n",
        "\n",
        "!test -d bert_repo || git clone https://github.com/google-research/bert bert_repo\n",
        "if not 'bert_repo' in sys.path:\n",
        "  sys.path += ['bert_repo']\n",
        "\n",
        "import tokenization\n",
        "\n",
        "vocab = \"Bert Large English Uncased WWM\" #@param [\"Bert Large English Uncased WWM\", \"Bert Large Multilang Cased WWM\"]\n",
        "\n",
        "if vocab == \"Bert Large English Uncased WWM\":\n",
        "  vocab_file = \"gs://perepublic/bert_config_files/vocab.txt\"\n",
        "elif vocab == \"Bert Large Multilang Cased WWM\":\n",
        "  vocab_file = \"gs://perepublic/norsk/vocab/vocab.txt\"\n",
        "\n",
        "text = \"@<user>\" #@param {type: \"string\"}\n",
        "\n",
        "tokenizer = tokenization.FullTokenizer(vocab_file=vocab_file,do_lower_case=True)\n",
        "text = tokenization.convert_to_unicode(text)\n",
        "tokenized_text = tokenizer.tokenize(text)\n",
        "token_ids = tokenizer.convert_tokens_to_ids(tokenized_text)\n",
        "\n",
        "print(\"Encoded text: \"+ text)\n",
        "print(\"Tokens: \" + str(tokenized_text))\n",
        "print(\"Token IDs: \" + str(token_ids))\n"
      ],
      "execution_count": 7,
      "outputs": [
        {
          "output_type": "stream",
          "text": [
            "Encoded text: @<user>\n",
            "Tokens: ['@', '<', 'user', '>']\n",
            "Token IDs: [1030, 1026, 5310, 1028]\n"
          ],
          "name": "stdout"
        }
      ]
    }
  ]
}